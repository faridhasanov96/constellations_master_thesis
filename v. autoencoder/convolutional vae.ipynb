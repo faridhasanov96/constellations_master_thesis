{
 "cells": [
  {
   "cell_type": "code",
   "execution_count": null,
   "id": "29e0ea48",
   "metadata": {},
   "outputs": [],
   "source": [
    "import imageio\n",
    "import numpy as np\n",
    "import matplotlib.pyplot as plt\n",
    "from torchvision.utils import save_image\n",
    "from tqdm import tqdm\n"
   ]
  },
  {
   "cell_type": "code",
   "execution_count": null,
   "id": "b749abc2",
   "metadata": {},
   "outputs": [],
   "source": [
    "import torch\n",
    "import torch.nn as nn\n",
    "import torch.nn.functional as F\n",
    "import torch.optim as optim\n",
    "import torchvision.transforms as transforms\n",
    "import torchvision\n",
    "import matplotlib\n",
    "from torch.utils.data import DataLoader\n",
    "from torchvision.utils import make_grid\n",
    "matplotlib.style.use('ggplot')"
   ]
  },
  {
   "cell_type": "code",
   "execution_count": null,
   "id": "248669d6",
   "metadata": {},
   "outputs": [],
   "source": [
    "from vae_model import *\n",
    "from training import *\n",
    "device = torch.device('cuda' if torch.cuda.is_available() else 'cpu')\n",
    "model = ConvVAE().to(device)\n",
    "lr = 0.001\n",
    "epochs = 200\n",
    "batch_size = 128\n",
    "optimizer = optim.Adam(model.parameters(), lr=lr)\n",
    "scheduler = torch.optim.lr_scheduler.ReduceLROnPlateau(optimizer, patience = 10, factor = 0.1)\n",
    "\n",
    "criterion = nn.BCELoss(reduction='sum')\n"
   ]
  },
  {
   "cell_type": "code",
   "execution_count": null,
   "id": "da464cda",
   "metadata": {},
   "outputs": [],
   "source": [
    "\n",
    "transform1 = transforms.Compose([\n",
    "                                transforms.Resize(32),\n",
    "                                transforms.RandomAffine(degrees=30, scale=(.9, 1.1),translate=(0.1, 0.2)),\n",
    "                                transforms.ToTensor(),\n",
    "])\n",
    "# training set and train data loader\n",
    "trainset = torchvision.datasets.MNIST(\n",
    "    root='./DATA_MNIST/', train=True, download=True, transform=transform1\n",
    ")\n",
    "trainloader = DataLoader(\n",
    "    trainset, batch_size=batch_size, shuffle=True\n",
    ")\n",
    "# validation set and validation data loader\n",
    "testset = torchvision.datasets.MNIST(\n",
    "    root='./DATA_MNIST/', train=False, download=True, transform=transform1\n",
    ")\n",
    "testloader = DataLoader(\n",
    "    testset, batch_size=batch_size, shuffle=False\n",
    ")"
   ]
  },
  {
   "cell_type": "code",
   "execution_count": null,
   "id": "ef10271d",
   "metadata": {},
   "outputs": [],
   "source": [
    "import os\n",
    "def show_images(images, nmax=64):\n",
    "    fig, ax = plt.subplots(figsize=(8, 8))\n",
    "    ax.set_xticks([]); ax.set_yticks([])\n",
    "    ax.imshow(make_grid(images.detach()[:nmax], nrow=8).permute(1, 2, 0))\n",
    "\n",
    "def show_batch(dl, nmax=64):\n",
    "    for images, _ in dl:\n",
    "        show_images(images, nmax)\n",
    "        break\n",
    "show_batch(trainloader)"
   ]
  },
  {
   "cell_type": "code",
   "execution_count": null,
   "id": "d3f42182",
   "metadata": {},
   "outputs": [],
   "source": [
    "train_loss = []\n",
    "valid_loss = []\n",
    "for epoch in range(epochs):\n",
    "    print(f\"Epoch {epoch+1} of {epochs}\")\n",
    "    train_epoch_loss = train(\n",
    "        model, trainloader, trainset, device, optimizer, criterion\n",
    "    )\n",
    "    valid_epoch_loss, recon_images = validate(\n",
    "        model, testloader, testset, device, criterion\n",
    "    )\n",
    "    train_loss.append(train_epoch_loss)\n",
    "    valid_loss.append(valid_epoch_loss)\n",
    "    print(f\"Train Loss: {train_epoch_loss:.4f}\")\n",
    "    print(f\"Val Loss: {valid_epoch_loss:.4f}\")\n",
    "    scheduler.step()"
   ]
  },
  {
   "cell_type": "code",
   "execution_count": null,
   "id": "f4788d35",
   "metadata": {},
   "outputs": [],
   "source": [
    "prediction = model.decoder(torch.randn(1,16).cuda())[0]\n",
    "prediction.squeeze(0).shape"
   ]
  },
  {
   "cell_type": "code",
   "execution_count": null,
   "id": "0f1dfa9f",
   "metadata": {},
   "outputs": [],
   "source": [
    "torch.save(model.state_dict(), 'conv_vae300.pth')\n"
   ]
  }
 ],
 "metadata": {
  "kernelspec": {
   "display_name": "Python 3 (ipykernel)",
   "language": "python",
   "name": "python3"
  },
  "language_info": {
   "codemirror_mode": {
    "name": "ipython",
    "version": 3
   },
   "file_extension": ".py",
   "mimetype": "text/x-python",
   "name": "python",
   "nbconvert_exporter": "python",
   "pygments_lexer": "ipython3",
   "version": "3.9.12"
  }
 },
 "nbformat": 4,
 "nbformat_minor": 5
}
